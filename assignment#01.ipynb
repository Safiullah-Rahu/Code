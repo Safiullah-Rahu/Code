{
 "metadata": {
  "language_info": {
   "codemirror_mode": {
    "name": "ipython",
    "version": 3
   },
   "file_extension": ".py",
   "mimetype": "text/x-python",
   "name": "python",
   "nbconvert_exporter": "python",
   "pygments_lexer": "ipython3",
   "version": "3.7.0-final"
  },
  "orig_nbformat": 2,
  "kernelspec": {
   "name": "python3",
   "display_name": "Python 3"
  }
 },
 "nbformat": 4,
 "nbformat_minor": 2,
 "cells": [
  {
   "source": [
    "# 50 Numpy Functions & Methods"
   ],
   "cell_type": "markdown",
   "metadata": {}
  },
  {
   "source": [
    "## Initial Placeholders"
   ],
   "cell_type": "markdown",
   "metadata": {}
  },
  {
   "cell_type": "code",
   "execution_count": 7,
   "metadata": {},
   "outputs": [
    {
     "output_type": "stream",
     "name": "stdout",
     "text": [
      "1D\n[0. 0. 0.]\n\n2D\n[[0. 0. 0.]\n [0. 0. 0.]]\n\n3D\n[[[0. 0. 0. 0.]\n  [0. 0. 0. 0.]]\n\n [[0. 0. 0. 0.]\n  [0. 0. 0. 0.]]\n\n [[0. 0. 0. 0.]\n  [0. 0. 0. 0.]]]\n"
     ]
    }
   ],
   "source": [
    "# 1\n",
    "import numpy as np\n",
    "a1 = np.zeros(3)         # 1D array of length 3 all zeros\n",
    "a2 = np.zeros((2,3))     # 2D array of all zeros\n",
    "a3 = np.zeros((3,2,4))   # 3D array of all zeros\n",
    "print(\"1D\\n{}\\n\\n2D\\n{}\\n\\n3D\\n{}\".format(a1,a2,a3))\n"
   ]
  },
  {
   "cell_type": "code",
   "execution_count": 8,
   "metadata": {},
   "outputs": [
    {
     "output_type": "execute_result",
     "data": {
      "text/plain": [
       "array([[2, 2, 2, 2],\n",
       "       [2, 2, 2, 2],\n",
       "       [2, 2, 2, 2]])"
      ]
     },
     "metadata": {},
     "execution_count": 8
    }
   ],
   "source": [
    "# 2\n",
    "np.full((3,4),2)    # 3x4 array with all values 2"
   ]
  },
  {
   "cell_type": "code",
   "execution_count": 9,
   "metadata": {},
   "outputs": [
    {
     "output_type": "execute_result",
     "data": {
      "text/plain": [
       "array([[0.59880796, 0.01951741, 0.41057068, 0.93431121, 0.76545238],\n",
       "       [0.12064612, 0.77825983, 0.59848227, 0.17003048, 0.33651563],\n",
       "       [0.47669949, 0.21367804, 0.46830507, 0.09449932, 0.44374235]])"
      ]
     },
     "metadata": {},
     "execution_count": 9
    }
   ],
   "source": [
    "# 3\n",
    "np.random.rand(3,5)     # 3x5 array of random floats between 0-1"
   ]
  },
  {
   "cell_type": "code",
   "execution_count": 10,
   "metadata": {},
   "outputs": [
    {
     "output_type": "execute_result",
     "data": {
      "text/plain": [
       "array([[1., 1., 1., 1.],\n",
       "       [1., 1., 1., 1.],\n",
       "       [1., 1., 1., 1.]])"
      ]
     },
     "metadata": {},
     "execution_count": 10
    }
   ],
   "source": [
    "# 4 \n",
    "np.ones((3,4))      # 3x4 array with all values 1"
   ]
  },
  {
   "cell_type": "code",
   "execution_count": 11,
   "metadata": {},
   "outputs": [
    {
     "output_type": "execute_result",
     "data": {
      "text/plain": [
       "array([[1., 0., 0., 0.],\n",
       "       [0., 1., 0., 0.],\n",
       "       [0., 0., 1., 0.],\n",
       "       [0., 0., 0., 1.]])"
      ]
     },
     "metadata": {},
     "execution_count": 11
    }
   ],
   "source": [
    "# 5 \n",
    "np.eye(4)       # 4x4 array of 0 with 1 on diagonal\n"
   ]
  },
  {
   "source": [
    "## Saving and Loading\n"
   ],
   "cell_type": "markdown",
   "metadata": {}
  },
  {
   "cell_type": "code",
   "execution_count": 13,
   "metadata": {},
   "outputs": [],
   "source": [
    "# 6\n",
    "# On disk:\n",
    "x = np.array([1,2,3])\n",
    "np.save(\"new_array\",x)"
   ]
  },
  {
   "source": [
    "# 7\n",
    "np.load(\"new_array.npy\")"
   ],
   "cell_type": "code",
   "metadata": {},
   "execution_count": 14,
   "outputs": [
    {
     "output_type": "execute_result",
     "data": {
      "text/plain": [
       "array([1, 2, 3])"
      ]
     },
     "metadata": {},
     "execution_count": 14
    }
   ]
  },
  {
   "cell_type": "code",
   "execution_count": 18,
   "metadata": {},
   "outputs": [
    {
     "output_type": "execute_result",
     "data": {
      "text/plain": [
       "array([], dtype=float64)"
      ]
     },
     "metadata": {},
     "execution_count": 18
    }
   ],
   "source": [
    "# 7\n",
    "# Text/CSV files:\n",
    "np.loadtxt(\"New_file.txt\")  # From a text file"
   ]
  },
  {
   "cell_type": "code",
   "execution_count": 19,
   "metadata": {},
   "outputs": [
    {
     "output_type": "execute_result",
     "data": {
      "text/plain": [
       "array([], dtype=float64)"
      ]
     },
     "metadata": {},
     "execution_count": 19
    }
   ],
   "source": [
    "# 8\n",
    "np.genfromtxt('New_file.csv', delimiter=',')    # From a CSV file\n"
   ]
  },
  {
   "cell_type": "code",
   "execution_count": 20,
   "metadata": {},
   "outputs": [],
   "source": [
    "# 9 \n",
    "arr = np.array([1,2,3,4,5,6,7,8])\n",
    "np.savetxt('New_file.txt', arr, delimiter='')   # Writes to a text file"
   ]
  },
  {
   "cell_type": "code",
   "execution_count": 21,
   "metadata": {},
   "outputs": [],
   "source": [
    "# 10\n",
    "np.savetxt('New_file.csv', arr, delimiter=',') # Writes to a CSV file"
   ]
  },
  {
   "cell_type": "code",
   "execution_count": 25,
   "metadata": {},
   "outputs": [
    {
     "output_type": "execute_result",
     "data": {
      "text/plain": [
       "16"
      ]
     },
     "metadata": {},
     "execution_count": 25
    }
   ],
   "source": [
    "# 11\n",
    "array = np.array([[0,0,0,0,0,0,0,0],[0,0,0,0,0,0,0,0]])\n",
    "array.size  # Returns number of elements in array"
   ]
  },
  {
   "cell_type": "code",
   "execution_count": 26,
   "metadata": {},
   "outputs": [
    {
     "output_type": "execute_result",
     "data": {
      "text/plain": [
       "(2, 8)"
      ]
     },
     "metadata": {},
     "execution_count": 26
    }
   ],
   "source": [
    "# 12\n",
    "array.shape # Returns dimensions of array (rows,columns)"
   ]
  },
  {
   "cell_type": "code",
   "execution_count": 27,
   "metadata": {},
   "outputs": [
    {
     "output_type": "execute_result",
     "data": {
      "text/plain": [
       "dtype('int32')"
      ]
     },
     "metadata": {},
     "execution_count": 27
    }
   ],
   "source": [
    "# 13 \n",
    "array.dtype # returns type of elements in array"
   ]
  },
  {
   "source": [
    "## Operations"
   ],
   "cell_type": "markdown",
   "metadata": {}
  },
  {
   "cell_type": "code",
   "execution_count": 28,
   "metadata": {},
   "outputs": [
    {
     "output_type": "execute_result",
     "data": {
      "text/plain": [
       "array([[0, 0, 0, 0, 0, 0, 0, 0],\n",
       "       [0, 0, 0, 0, 0, 0, 0, 0]])"
      ]
     },
     "metadata": {},
     "execution_count": 28
    }
   ],
   "source": [
    "# 14 \n",
    "np.copy(array)  # Copies array to new memory array."
   ]
  },
  {
   "cell_type": "code",
   "execution_count": 38,
   "metadata": {},
   "outputs": [
    {
     "output_type": "execute_result",
     "data": {
      "text/plain": [
       "array([[0, 0, 0, 0, 0, 0, 0, 0],\n",
       "       [0, 0, 0, 0, 0, 0, 0, 0]])"
      ]
     },
     "metadata": {},
     "execution_count": 38
    }
   ],
   "source": [
    "# 15\n",
    "array.view(dtype=int)   # Creates view of array elements with type dtype"
   ]
  },
  {
   "cell_type": "code",
   "execution_count": 39,
   "metadata": {},
   "outputs": [],
   "source": [
    "# 16\n",
    "array.sort()    # Sorts array"
   ]
  },
  {
   "cell_type": "code",
   "execution_count": 40,
   "metadata": {},
   "outputs": [],
   "source": [
    "# 17 \n",
    "array.sort(axis=0)  # Sorts specific axis of array"
   ]
  },
  {
   "cell_type": "code",
   "execution_count": 46,
   "metadata": {},
   "outputs": [
    {
     "output_type": "execute_result",
     "data": {
      "text/plain": [
       "array([[1, 2],\n",
       "       [3, 4],\n",
       "       [5, 6],\n",
       "       [7, 8]])"
      ]
     },
     "metadata": {},
     "execution_count": 46
    }
   ],
   "source": [
    "# 18\n",
    "array = np.array([1,2,3,4,5,6,7,8])\n",
    "array.reshape(4,2)  # Reshapes array to 4 rows, 2 columns without changing data."
   ]
  },
  {
   "cell_type": "code",
   "execution_count": 51,
   "metadata": {},
   "outputs": [
    {
     "output_type": "execute_result",
     "data": {
      "text/plain": [
       "array([1, 2, 3, 4, 5, 6, 7, 8, 9, 9, 9])"
      ]
     },
     "metadata": {},
     "execution_count": 51
    }
   ],
   "source": [
    "# 19\n",
    "array = np.array([1,2,3,4,5,6,7,8])\n",
    "np.append(array,values=(9,9,9))     # Appends values to end of array"
   ]
  },
  {
   "cell_type": "code",
   "execution_count": 52,
   "metadata": {},
   "outputs": [
    {
     "output_type": "execute_result",
     "data": {
      "text/plain": [
       "array([1, 2, 3, 4, 9, 9, 9, 5, 6, 7, 8])"
      ]
     },
     "metadata": {},
     "execution_count": 52
    }
   ],
   "source": [
    "# 20\n",
    "np.insert(array,4,values=(9,9,9))   # Inserts values into array before index 4. "
   ]
  },
  {
   "cell_type": "code",
   "execution_count": 74,
   "metadata": {},
   "outputs": [
    {
     "output_type": "stream",
     "name": "stdout",
     "text": [
      "Deleting rows\n [[1 2 3 4]\n [5 6 7 8]]\n\n\nDeleting columns\n [[1 2 3]\n [5 6 7]]\n"
     ]
    }
   ],
   "source": [
    "# 21\n",
    "array = np.array([[1,2,3,4],[5,6,7,8],[9,10,11,12]])\n",
    "array = np.delete(array,2,axis=0)   # Deletes row on index 2 of array\n",
    "print(f\"Deleting rows\\n {array}\")\n",
    "print('\\n')\n",
    "array = np.delete(array,3,axis=1)   # Deletes column on index 3 of array\n",
    "print(f\"Deleting columns\\n {array}\")"
   ]
  },
  {
   "cell_type": "code",
   "execution_count": 83,
   "metadata": {},
   "outputs": [
    {
     "output_type": "stream",
     "name": "stdout",
     "text": [
      "Adds array2 as rows\n[[ 1  2  3  4]\n [ 1  1  1  1]\n [ 5  6  7  8]\n [ 9 10 11 12]]\n\n\nAdds array2 as columns\n[[ 1  2  3  4  5  6  7  8]\n [ 1  1  1  1  9 10 11 12]]\n"
     ]
    }
   ],
   "source": [
    "#22\n",
    "array1 = np.array([[1,2,3,4],[1,1,1,1]])\n",
    "array2 = np.array([[5,6,7,8],[9,10,11,12]])\n",
    "r1 = np.concatenate((array1,array2),axis=0) # adds array2 as rows to the end of array1\n",
    "print(f'Adds array2 as rows\\n{r1}')\n",
    "print(\"\\n\")\n",
    "r2 = np.concatenate((array1,array2),axis=1) # adds array2 as columns to end of array1\n",
    "print(f'Adds array2 as columns\\n{r2}')"
   ]
  },
  {
   "cell_type": "code",
   "execution_count": 107,
   "metadata": {},
   "outputs": [
    {
     "output_type": "execute_result",
     "data": {
      "text/plain": [
       "[array([[1, 2, 3, 4]]), array([[5, 6, 7, 8]]), array([[ 9, 10, 11, 12]])]"
      ]
     },
     "metadata": {},
     "execution_count": 107
    }
   ],
   "source": [
    "# 23\n",
    "array = np.array([[1,2,3,4],[5,6,7,8],[9,10,11,12]])\n",
    "np.split(array,3)   # splits array into 3 sub-arrays"
   ]
  },
  {
   "cell_type": "code",
   "execution_count": 126,
   "metadata": {},
   "outputs": [
    {
     "output_type": "stream",
     "name": "stdout",
     "text": [
      "6\n[6 2 3 6]\n"
     ]
    }
   ],
   "source": [
    "# 24\n",
    "array = np.array([0,2,3,6])\n",
    "a = array[0] = 6    # Assigns array element on index 0 the value 5\n",
    "print(a)\n",
    "print(array)"
   ]
  },
  {
   "cell_type": "code",
   "execution_count": 134,
   "metadata": {},
   "outputs": [
    {
     "output_type": "execute_result",
     "data": {
      "text/plain": [
       "6"
      ]
     },
     "metadata": {},
     "execution_count": 134
    }
   ],
   "source": [
    "# 25\n",
    "a = np.array([0,2,3,6,7,8,9])\n",
    "a[3]"
   ]
  },
  {
   "cell_type": "code",
   "execution_count": 135,
   "metadata": {},
   "outputs": [
    {
     "output_type": "execute_result",
     "data": {
      "text/plain": [
       "array([0, 2, 3, 6])"
      ]
     },
     "metadata": {},
     "execution_count": 135
    }
   ],
   "source": [
    "#26\n",
    "a[0:4]"
   ]
  },
  {
   "cell_type": "code",
   "execution_count": 137,
   "metadata": {},
   "outputs": [
    {
     "output_type": "execute_result",
     "data": {
      "text/plain": [
       "array([ 7,  9, 11, 13, 15])"
      ]
     },
     "metadata": {},
     "execution_count": 137
    }
   ],
   "source": [
    "#27\n",
    "a = np.array([1,2,3,4,5])\n",
    "b = np.array([6,7,8,9,10])\n",
    "np.add(a,b)"
   ]
  },
  {
   "cell_type": "code",
   "execution_count": 138,
   "metadata": {},
   "outputs": [
    {
     "output_type": "execute_result",
     "data": {
      "text/plain": [
       "array([-5, -5, -5, -5, -5])"
      ]
     },
     "metadata": {},
     "execution_count": 138
    }
   ],
   "source": [
    "#28\n",
    "np.subtract(a,b)"
   ]
  },
  {
   "cell_type": "code",
   "execution_count": 139,
   "metadata": {},
   "outputs": [
    {
     "output_type": "execute_result",
     "data": {
      "text/plain": [
       "array([ 6, 14, 24, 36, 50])"
      ]
     },
     "metadata": {},
     "execution_count": 139
    }
   ],
   "source": [
    "#29\n",
    "np.multiply(a,b)"
   ]
  },
  {
   "cell_type": "code",
   "execution_count": 140,
   "metadata": {},
   "outputs": [
    {
     "output_type": "execute_result",
     "data": {
      "text/plain": [
       "array([0.16666667, 0.28571429, 0.375     , 0.44444444, 0.5       ])"
      ]
     },
     "metadata": {},
     "execution_count": 140
    }
   ],
   "source": [
    "#30\n",
    "np.divide(a,b)"
   ]
  },
  {
   "cell_type": "code",
   "execution_count": 141,
   "metadata": {},
   "outputs": [
    {
     "output_type": "execute_result",
     "data": {
      "text/plain": [
       "array([  2.71828183,   7.3890561 ,  20.08553692,  54.59815003,\n",
       "       148.4131591 ])"
      ]
     },
     "metadata": {},
     "execution_count": 141
    }
   ],
   "source": [
    "#31\n",
    "np.exp(a)       # Exponentiation"
   ]
  },
  {
   "cell_type": "code",
   "execution_count": 142,
   "metadata": {},
   "outputs": [
    {
     "output_type": "execute_result",
     "data": {
      "text/plain": [
       "array([1.        , 1.41421356, 1.73205081, 2.        , 2.23606798])"
      ]
     },
     "metadata": {},
     "execution_count": 142
    }
   ],
   "source": [
    "#32\n",
    "np.sqrt(a)      # Square root"
   ]
  },
  {
   "cell_type": "code",
   "execution_count": 143,
   "metadata": {},
   "outputs": [
    {
     "output_type": "execute_result",
     "data": {
      "text/plain": [
       "array([False, False, False, False, False])"
      ]
     },
     "metadata": {},
     "execution_count": 143
    }
   ],
   "source": [
    "#33\n",
    "a==b    # element-wise"
   ]
  },
  {
   "cell_type": "code",
   "execution_count": 144,
   "metadata": {},
   "outputs": [
    {
     "output_type": "execute_result",
     "data": {
      "text/plain": [
       "False"
      ]
     },
     "metadata": {},
     "execution_count": 144
    }
   ],
   "source": [
    "#34\n",
    "np.array_equal(a,b) # Array-wise"
   ]
  },
  {
   "cell_type": "code",
   "execution_count": 145,
   "metadata": {},
   "outputs": [
    {
     "output_type": "execute_result",
     "data": {
      "text/plain": [
       "15"
      ]
     },
     "metadata": {},
     "execution_count": 145
    }
   ],
   "source": [
    "#35\n",
    "a.sum() # Array-wise sum"
   ]
  },
  {
   "cell_type": "code",
   "execution_count": 146,
   "metadata": {},
   "outputs": [
    {
     "output_type": "execute_result",
     "data": {
      "text/plain": [
       "1"
      ]
     },
     "metadata": {},
     "execution_count": 146
    }
   ],
   "source": [
    "#36\n",
    "a.min()     # Array-wise min value"
   ]
  },
  {
   "cell_type": "code",
   "execution_count": 147,
   "metadata": {},
   "outputs": [
    {
     "output_type": "execute_result",
     "data": {
      "text/plain": [
       "5"
      ]
     },
     "metadata": {},
     "execution_count": 147
    }
   ],
   "source": [
    "#37\n",
    "a.max(axis=0)   # Array row max value"
   ]
  },
  {
   "cell_type": "code",
   "execution_count": 148,
   "metadata": {},
   "outputs": [
    {
     "output_type": "execute_result",
     "data": {
      "text/plain": [
       "3.0"
      ]
     },
     "metadata": {},
     "execution_count": 148
    }
   ],
   "source": [
    "#38\n",
    "a.mean()    # mean"
   ]
  },
  {
   "cell_type": "code",
   "execution_count": 152,
   "metadata": {},
   "outputs": [
    {
     "output_type": "execute_result",
     "data": {
      "text/plain": [
       "3.0"
      ]
     },
     "metadata": {},
     "execution_count": 152
    }
   ],
   "source": [
    "#39\n",
    "np.median(a)    # median"
   ]
  },
  {
   "cell_type": "code",
   "execution_count": 157,
   "metadata": {},
   "outputs": [
    {
     "output_type": "execute_result",
     "data": {
      "text/plain": [
       "array([[1, 2],\n",
       "       [3, 4],\n",
       "       [5, 6],\n",
       "       [7, 8]])"
      ]
     },
     "metadata": {},
     "execution_count": 157
    }
   ],
   "source": [
    "#40\n",
    "a = np.array([[1, 2],\n",
    "              [3, 4]])\n",
    "\n",
    "b = np.array([[5, 6],\n",
    "              [7, 8]])\n",
    "\n",
    "np.vstack((a,b))    # To stack arrays along vertical axis"
   ]
  },
  {
   "cell_type": "code",
   "execution_count": 158,
   "metadata": {},
   "outputs": [
    {
     "output_type": "execute_result",
     "data": {
      "text/plain": [
       "array([[1, 2, 5, 6],\n",
       "       [3, 4, 7, 8]])"
      ]
     },
     "metadata": {},
     "execution_count": 158
    }
   ],
   "source": [
    "#41\n",
    "np.hstack((a, b))   # To stack arrays along horizontal axis"
   ]
  },
  {
   "cell_type": "code",
   "execution_count": 159,
   "metadata": {},
   "outputs": [
    {
     "output_type": "execute_result",
     "data": {
      "text/plain": [
       "array([[1, 2, 5],\n",
       "       [3, 4, 6]])"
      ]
     },
     "metadata": {},
     "execution_count": 159
    }
   ],
   "source": [
    "#42\n",
    "c = [5, 6]\n",
    "\n",
    "np.column_stack((a, c)) # To stack 1-D arrays as columns into 2-D arrays\n"
   ]
  },
  {
   "cell_type": "code",
   "execution_count": 161,
   "metadata": {},
   "outputs": [
    {
     "output_type": "execute_result",
     "data": {
      "text/plain": [
       "array([[1, 2, 5, 6],\n",
       "       [3, 4, 7, 8]])"
      ]
     },
     "metadata": {},
     "execution_count": 161
    }
   ],
   "source": [
    "#43\n",
    "np.concatenate((a, b), 1)   # To stack arrays along specified axis (axis is passed as argument)"
   ]
  },
  {
   "cell_type": "code",
   "execution_count": 165,
   "metadata": {},
   "outputs": [
    {
     "output_type": "stream",
     "name": "stdout",
     "text": [
      "Year is: 2020\n"
     ]
    }
   ],
   "source": [
    "# 44\n",
    "today = np.datetime64(\"2020-12-20\")\n",
    "print(\"Year is:\", np.datetime64(today, 'Y'))"
   ]
  },
  {
   "cell_type": "code",
   "execution_count": 166,
   "metadata": {},
   "outputs": [
    {
     "output_type": "execute_result",
     "data": {
      "text/plain": [
       "3"
      ]
     },
     "metadata": {},
     "execution_count": 166
    }
   ],
   "source": [
    "# 45\n",
    "A = np.array([[6, 1, 1],\n",
    "              [4, -2, 5],\n",
    "              [2, 8, 7]])\n",
    "\n",
    "np.linalg.matrix_rank(A)    # Determines rank of a matrix"
   ]
  },
  {
   "cell_type": "code",
   "execution_count": 167,
   "metadata": {},
   "outputs": [
    {
     "output_type": "execute_result",
     "data": {
      "text/plain": [
       "array([[336, 162, 228],\n",
       "       [406, 162, 469],\n",
       "       [698, 702, 905]])"
      ]
     },
     "metadata": {},
     "execution_count": 167
    }
   ],
   "source": [
    "# 46\n",
    "np.linalg.matrix_power(A, 3)    # Matrix A raised to power 3"
   ]
  },
  {
   "cell_type": "code",
   "execution_count": 169,
   "metadata": {},
   "outputs": [
    {
     "output_type": "stream",
     "name": "stdout",
     "text": [
      "Solution of linear equations:  [2. 3.]\n"
     ]
    }
   ],
   "source": [
    "# 47\n",
    "# linear equation\n",
    "# x + 2*y = 8\n",
    "# 3*x + 4*y = 18\n",
    "\n",
    "# coefficients\n",
    "a = np.array([[1, 2], [3, 4]])\n",
    "# constants\n",
    "b = np.array([8, 18])\n",
    "\n",
    "c = np.linalg.solve(a, b)\n",
    "print(\"Solution of linear equations: \", c)"
   ]
  },
  {
   "cell_type": "code",
   "execution_count": 175,
   "metadata": {},
   "outputs": [
    {
     "output_type": "execute_result",
     "data": {
      "text/plain": [
       "array([ True,  True,  True, False, False, False])"
      ]
     },
     "metadata": {},
     "execution_count": 175
    }
   ],
   "source": [
    "# 48\n",
    "array = np.array([1,2,3,4,5,6])\n",
    "\n",
    "array.__lt__(4) #which element in an array is less then the value which is provided in the parameter"
   ]
  },
  {
   "cell_type": "code",
   "execution_count": 176,
   "metadata": {},
   "outputs": [
    {
     "output_type": "execute_result",
     "data": {
      "text/plain": [
       "array([-1,  2, -3,  4, -5,  7])"
      ]
     },
     "metadata": {},
     "execution_count": 176
    }
   ],
   "source": [
    "#49\n",
    "arr = np.array([1, -2, 3, -4, 5, -7])\n",
    "\n",
    "arr.__neg__()   # one can multiply each and every element of an array with -1. Hence, the resultant array having values like positive values becomes negative and negative values become positive."
   ]
  },
  {
   "cell_type": "code",
   "execution_count": 177,
   "metadata": {},
   "outputs": [
    {
     "output_type": "execute_result",
     "data": {
      "text/plain": [
       "array([ 1,  4,  9, 16, 25], dtype=int32)"
      ]
     },
     "metadata": {},
     "execution_count": 177
    }
   ],
   "source": [
    "# 50\n",
    "p_arr = np.array([1, 2, 3, 4, 5])\n",
    "\n",
    "p_arr.__pow__(2) # every element get powered with the value that is provided as a parameter"
   ]
  },
  {
   "cell_type": "code",
   "execution_count": 185,
   "metadata": {},
   "outputs": [
    {
     "output_type": "execute_result",
     "data": {
      "text/plain": [
       "array([[1, 2, 3],\n",
       "       [4, 5, 6]])"
      ]
     },
     "metadata": {},
     "execution_count": 185
    }
   ],
   "source": [
    "# 51\n",
    "resize_arr = np.array([1, 2, 3, 4, 5, 6])\n",
    "\n",
    "np.resize(resize_arr, (2, 3))   # resizing of an array"
   ]
  },
  {
   "cell_type": "code",
   "execution_count": null,
   "metadata": {},
   "outputs": [],
   "source": []
  }
 ]
}